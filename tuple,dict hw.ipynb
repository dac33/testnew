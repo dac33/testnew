{
 "cells": [
  {
   "cell_type": "markdown",
   "metadata": {},
   "source": [
    "# Question 1 I Love You, Tuple\n",
    "You may recall tuples from your in-class lesson. Tuples are immutable data structures, which means they can't be changed after they're created. They are typically used to store related information that doesn't need to be changed, such as a student record or, in this case, some stats about a movie. It's your job to create some print statements that access the appropriate values\n",
    "inside each tuple to produce the expected output."
   ]
  },
  {
   "cell_type": "code",
   "execution_count": 1,
   "metadata": {},
   "outputs": [],
   "source": [
    "# My favorite romance movies\n",
    "# title, release year, runtime, tagline, main characters\n",
    "romantic_movie1 = (\"The Princess Bride\", 1987, 98, \"The story of a man and a woman who lived happily ever after.\", [\"Buttercup\", \"Westley\", \"Fezzik\", \"Inigo Montoya\", \"Vizzini\"])\n",
    "romantic_movie2 = (\"Groundhog Day\", 1993, 101, \"He's having the day of his life… over and over again.\", [\"Phil Connors\"])\n",
    "romantic_movie3 = (\"Amélie\", 2001, 122, \"One person can change your life forever.\", [\"Amélie Poulain\", \"Nino Quincampoix\", \"The Garden Gnome\"])"
   ]
  },
  {
   "cell_type": "code",
   "execution_count": 2,
   "metadata": {},
   "outputs": [
    {
     "name": "stdout",
     "output_type": "stream",
     "text": [
      "Here are my favourite romance movies: \n",
      "The Princess Bride ( 1987 ) : The story of a man and a woman who lived happily ever after.\n",
      "Groundhog Day (1993): He's having the day of his life… over and over again.\n",
      "Amélie (2001) : One person can change your life forever.\n"
     ]
    }
   ],
   "source": [
    "print('Here are my favourite romance movies: ')\n",
    "print(romantic_movie1[0],'(',romantic_movie1[1],') :', romantic_movie1[3])\n",
    "print(f'{romantic_movie2[0]} ({romantic_movie2[1]}): {romantic_movie2[3]}')\n",
    "print('%s (%s) : %s' %(romantic_movie3[0],romantic_movie3[1],romantic_movie3[3]))"
   ]
  },
  {
   "cell_type": "code",
   "execution_count": 5,
   "metadata": {},
   "outputs": [
    {
     "name": "stdout",
     "output_type": "stream",
     "text": [
      "The Princess Bride ( 1987 ) : The story of a man and a woman who lived happily ever after.\n",
      "Groundhog Day ( 1993 ) : He's having the day of his life… over and over again.\n",
      "Amélie ( 2001 ) : One person can change your life forever.\n"
     ]
    }
   ],
   "source": [
    "romantic_movies = [romantic_movie1,romantic_movie2,romantic_movie3]\n",
    "for i in romantic_movies:\n",
    "    print(i[0],'(',i[1],') :', i[3])"
   ]
  },
  {
   "cell_type": "code",
   "execution_count": 4,
   "metadata": {},
   "outputs": [
    {
     "data": {
      "text/plain": [
       "[('The Princess Bride',\n",
       "  1987,\n",
       "  98,\n",
       "  'The story of a man and a woman who lived happily ever after.',\n",
       "  ['Buttercup', 'Westley', 'Fezzik', 'Inigo Montoya', 'Vizzini']),\n",
       " ('Groundhog Day',\n",
       "  1993,\n",
       "  101,\n",
       "  \"He's having the day of his life… over and over again.\",\n",
       "  ['Phil Connors']),\n",
       " ('Amélie',\n",
       "  2001,\n",
       "  122,\n",
       "  'One person can change your life forever.',\n",
       "  ['Amélie Poulain', 'Nino Quincampoix', 'The Garden Gnome'])]"
      ]
     },
     "execution_count": 4,
     "metadata": {},
     "output_type": "execute_result"
    }
   ],
   "source": [
    "romantic_movies"
   ]
  },
  {
   "cell_type": "markdown",
   "metadata": {},
   "source": [
    "# Question 2 Friends, Colleagues, and Details\n",
    "Your boss tasks you with creating a company directory. Make a list called employees, which will contain one dictionary per person and include the keys name, age, department, phone, and salary. Once you have the list of dictionaries set up, loop through the list and print out the name, department, and phone number of each employee. Their age and salary should remain secret!"
   ]
  },
  {
   "cell_type": "code",
   "execution_count": 7,
   "metadata": {},
   "outputs": [],
   "source": [
    "ron = {\"name\": \"Ron Swanson\",\"age\": 55,\"department\": \"Management\",\"phone\": \"555-1234\",\"salary\": \",000\"}\n",
    "leslie = {\"name\": \"Leslie Knope\",\"age\": 57,\"department\": \"Middle Management\",\"phone\": \"555-1234\",\"salary\": \",000\"}\n",
    "andy = {\"name\": \"Andy Dwyer\",\"age\": 30,\"department\": \"Shoe Shining\",\"phone\": \"555-1122\",\"salary\": \",000\"}\n",
    "april = {\"name\": \"April Ludgate\",\"age\": 40,\"department\": \"Administration\",\"phone\": \"555-3345\",\"salary\": \",000\"}"
   ]
  },
  {
   "cell_type": "code",
   "execution_count": 8,
   "metadata": {},
   "outputs": [
    {
     "data": {
      "text/plain": [
       "[{'name': 'Ron Swanson',\n",
       "  'age': 55,\n",
       "  'department': 'Management',\n",
       "  'phone': '555-1234',\n",
       "  'salary': ',000'},\n",
       " {'name': 'Leslie Knope',\n",
       "  'age': 57,\n",
       "  'department': 'Middle Management',\n",
       "  'phone': '555-1234',\n",
       "  'salary': ',000'},\n",
       " {'name': 'Andy Dwyer',\n",
       "  'age': 30,\n",
       "  'department': 'Shoe Shining',\n",
       "  'phone': '555-1122',\n",
       "  'salary': ',000'},\n",
       " {'name': 'April Ludgate',\n",
       "  'age': 40,\n",
       "  'department': 'Administration',\n",
       "  'phone': '555-3345',\n",
       "  'salary': ',000'}]"
      ]
     },
     "execution_count": 8,
     "metadata": {},
     "output_type": "execute_result"
    }
   ],
   "source": [
    "employees = [ron,leslie,andy,april]\n",
    "employees"
   ]
  },
  {
   "cell_type": "code",
   "execution_count": 43,
   "metadata": {},
   "outputs": [
    {
     "name": "stdout",
     "output_type": "stream",
     "text": [
      "Ron Swanson in Management can be reached at 555-1234\n",
      "Leslie Knope in Middle Management can be reached at 555-1234\n",
      "Andy Dwyer in Shoe Shining can be reached at 555-1122\n",
      "April Ludgate in Administration can be reached at 555-3345\n"
     ]
    }
   ],
   "source": [
    "for i in employees:\n",
    "    print(f\"{i['name']} in {i['department']} can be reached at {i['phone']}\")"
   ]
  },
  {
   "cell_type": "code",
   "execution_count": null,
   "metadata": {},
   "outputs": [],
   "source": []
  },
  {
   "cell_type": "code",
   "execution_count": null,
   "metadata": {},
   "outputs": [],
   "source": []
  }
 ],
 "metadata": {
  "kernelspec": {
   "display_name": "Python 3",
   "language": "python",
   "name": "python3"
  },
  "language_info": {
   "codemirror_mode": {
    "name": "ipython",
    "version": 3
   },
   "file_extension": ".py",
   "mimetype": "text/x-python",
   "name": "python",
   "nbconvert_exporter": "python",
   "pygments_lexer": "ipython3",
   "version": "3.7.6"
  }
 },
 "nbformat": 4,
 "nbformat_minor": 4
}
